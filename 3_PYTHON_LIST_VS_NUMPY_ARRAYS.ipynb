{
  "nbformat": 4,
  "nbformat_minor": 0,
  "metadata": {
    "colab": {
      "provenance": [],
      "gpuType": "V28"
    },
    "kernelspec": {
      "name": "python3",
      "display_name": "Python 3"
    },
    "language_info": {
      "name": "python"
    },
    "accelerator": "TPU"
  },
  "cells": [
    {
      "cell_type": "code",
      "execution_count": null,
      "metadata": {
        "id": "ZldNHjQWmDFA"
      },
      "outputs": [],
      "source": [
        "import numpy as np"
      ]
    },
    {
      "cell_type": "markdown",
      "source": [
        "**NUMPY ARRAYS**\n",
        "\n",
        "- 1.FASTER(IF DATA TYPES ARE NUMBERS)\n",
        "- 2.CONVINIENT\n",
        "- 3.LESS MEMORY(IF SAME ITEM TYPE AND SIZE COMPARED)"
      ],
      "metadata": {
        "id": "o-jzRZXQw6Sl"
      }
    },
    {
      "cell_type": "markdown",
      "source": [
        "\n",
        "\n",
        "---\n",
        "\n"
      ],
      "metadata": {
        "id": "JxTQekvexju2"
      }
    },
    {
      "cell_type": "markdown",
      "source": [
        "# prove"
      ],
      "metadata": {
        "id": "u9SEOV3TzMWt"
      }
    },
    {
      "cell_type": "markdown",
      "source": [
        "\n",
        "\n",
        "---\n",
        "\n"
      ],
      "metadata": {
        "id": "OGFQURyBxlJF"
      }
    },
    {
      "cell_type": "markdown",
      "source": [
        "**3.LESS MEMORY(IF SAME ITEM TYPE AND SIZE COMPARED)**"
      ],
      "metadata": {
        "id": "CwSQwvKRxmOL"
      }
    },
    {
      "cell_type": "code",
      "source": [
        "list1=list(range(1000))\n",
        "array1=np.arange(1000)"
      ],
      "metadata": {
        "id": "PHq9EaGEwzyT"
      },
      "execution_count": null,
      "outputs": []
    },
    {
      "cell_type": "code",
      "source": [
        "import sys"
      ],
      "metadata": {
        "id": "zImgMl4Mx2uN"
      },
      "execution_count": null,
      "outputs": []
    },
    {
      "cell_type": "code",
      "source": [
        "print(sys.getsizeof(88)*len(list1))\n",
        "# we use 67 as it is present between the range of 0 to 99..and then multiply it\n",
        "# with whole range"
      ],
      "metadata": {
        "colab": {
          "base_uri": "https://localhost:8080/"
        },
        "id": "ZZoxO-r3yFCo",
        "outputId": "076d3c3d-4f82-4f4c-93f5-aae86453ab30"
      },
      "execution_count": null,
      "outputs": [
        {
          "output_type": "stream",
          "name": "stdout",
          "text": [
            "28000\n"
          ]
        }
      ]
    },
    {
      "cell_type": "code",
      "source": [
        "array1.itemsize*array1.size"
      ],
      "metadata": {
        "colab": {
          "base_uri": "https://localhost:8080/"
        },
        "id": "y0Huf_rAy17L",
        "outputId": "7bb08e56-337e-43e6-8824-2fc8a60aadb9"
      },
      "execution_count": null,
      "outputs": [
        {
          "output_type": "execute_result",
          "data": {
            "text/plain": [
              "8000"
            ]
          },
          "metadata": {},
          "execution_count": 8
        }
      ]
    },
    {
      "cell_type": "markdown",
      "source": [
        "**1.FASTER(IF DATA TYPES ARE NUMBERS)**"
      ],
      "metadata": {
        "id": "tUYCdmZOzPI4"
      }
    },
    {
      "cell_type": "code",
      "source": [
        "import time\n",
        "x=list(range(10000000))\n",
        "y=list(range(10000000,20000000))"
      ],
      "metadata": {
        "id": "ZLA0Rtx5zZfr"
      },
      "execution_count": null,
      "outputs": []
    },
    {
      "cell_type": "code",
      "source": [
        "start_time=time.time()\n",
        "z=[(x,y)for x,y in zip(x,y)]\n",
        "print(time.time()-start_time)"
      ],
      "metadata": {
        "colab": {
          "base_uri": "https://localhost:8080/"
        },
        "id": "ZEJ_mekIzr0w",
        "outputId": "56e42988-998e-4891-f3f5-e0d1acbce94b"
      },
      "execution_count": null,
      "outputs": [
        {
          "output_type": "stream",
          "name": "stdout",
          "text": [
            "1.7394609451293945\n"
          ]
        }
      ]
    },
    {
      "cell_type": "code",
      "source": [
        "a=np.arange(10000000)\n",
        "b=np.arange(10000000,20000000)\n",
        "start_time=time.time()\n",
        "c=a+b\n",
        "print(time.time()-start_time)"
      ],
      "metadata": {
        "colab": {
          "base_uri": "https://localhost:8080/"
        },
        "id": "ReHsbRTT0UwP",
        "outputId": "00057dd2-025d-4732-f349-761ad42ab050"
      },
      "execution_count": null,
      "outputs": [
        {
          "output_type": "stream",
          "name": "stdout",
          "text": [
            "0.03011298179626465\n"
          ]
        }
      ]
    },
    {
      "cell_type": "code",
      "source": [
        "1.73/0.03011"
      ],
      "metadata": {
        "colab": {
          "base_uri": "https://localhost:8080/"
        },
        "id": "dcuresF9PNWL",
        "outputId": "73328961-8fdc-4961-f10e-e605efdbf831"
      },
      "execution_count": null,
      "outputs": [
        {
          "output_type": "execute_result",
          "data": {
            "text/plain": [
              "57.455994686150774"
            ]
          },
          "metadata": {},
          "execution_count": 12
        }
      ]
    }
  ]
}