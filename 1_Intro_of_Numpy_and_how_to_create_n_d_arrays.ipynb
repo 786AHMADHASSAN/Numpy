{
  "nbformat": 4,
  "nbformat_minor": 0,
  "metadata": {
    "colab": {
      "provenance": [],
      "gpuType": "V28"
    },
    "kernelspec": {
      "name": "python3",
      "display_name": "Python 3"
    },
    "language_info": {
      "name": "python"
    },
    "accelerator": "TPU"
  },
  "cells": [
    {
      "cell_type": "markdown",
      "source": [
        "- **NUMERICAL PYTHON** is a library written in C and FORTRAN especially for high level mathematical function.\n",
        "- python is user friendly programming language because of its simple syntax and very useful in application building,and it was possible beacuse developers done work on its inner code(we donot care about memory location as in c).\n",
        "- **C=>** used when needs to be communicated with hardware(has great layer of abstraction)\n",
        "- **python =>** when application need to be build(user-centric)\n",
        "- But the problem with python is that no doubt their data structures are numerous and powerful but extremely slow when needs to deal with large data.\n",
        "- The solution is Numpy\n",
        "- **c (speed) + python (syntax feasibility)**.....>>>best for machine learning\n",
        "(initialy not possible when python was developed)"
      ],
      "metadata": {
        "id": "jAcNukN4fB-n"
      }
    },
    {
      "cell_type": "markdown",
      "source": [
        "# APPLICATION\n",
        "- ONE data type = N-dimensional arrays\n",
        "- sophistecated functions\n",
        "- perform high level methamatical operations"
      ],
      "metadata": {
        "id": "Ml_LuslOfwU-"
      }
    },
    {
      "cell_type": "markdown",
      "source": [
        "# properties of n-d arrays\n",
        "- homogeneous(same data type stored) like int,float,complex\\\n",
        "- fixed item size\n",
        "- Actually it can hold strings but we dont use numpy in that way."
      ],
      "metadata": {
        "id": "oOr6gg5jgAdf"
      }
    },
    {
      "cell_type": "markdown",
      "source": [
        "\n",
        "\n",
        "---\n",
        "\n",
        "\n",
        "\n",
        "---\n",
        "\n",
        "\n",
        "\n",
        "---\n",
        "\n"
      ],
      "metadata": {
        "id": "_2cq3fUrgvsC"
      }
    },
    {
      "cell_type": "markdown",
      "source": [
        "#Create n-d Arrays"
      ],
      "metadata": {
        "id": "OkCqwteFgQfu"
      }
    },
    {
      "cell_type": "code",
      "source": [
        "import numpy as np"
      ],
      "metadata": {
        "id": "STytB8qvgx2Q"
      },
      "execution_count": null,
      "outputs": []
    },
    {
      "cell_type": "markdown",
      "source": [
        "**1.np.array**"
      ],
      "metadata": {
        "id": "n5f5Yfdng_sw"
      }
    },
    {
      "cell_type": "code",
      "source": [
        "array=np.array([1,2,3])\n",
        "type(array)"
      ],
      "metadata": {
        "colab": {
          "base_uri": "https://localhost:8080/"
        },
        "id": "Ue1jLqNkRv8H",
        "outputId": "1162d611-c894-4ef6-fda0-81d5be2338fc"
      },
      "execution_count": null,
      "outputs": [
        {
          "output_type": "execute_result",
          "data": {
            "text/plain": [
              "numpy.ndarray"
            ]
          },
          "metadata": {},
          "execution_count": 4
        }
      ]
    },
    {
      "cell_type": "code",
      "source": [
        "array1=np.array([1,2,34,5,5.5,\"string\"])\n",
        "print(array1)\n",
        "# 1D array"
      ],
      "metadata": {
        "colab": {
          "base_uri": "https://localhost:8080/"
        },
        "id": "LK51GBfXg7tu",
        "outputId": "9d6dd197-da69-4017-9f2a-11b4ab3a0fec"
      },
      "execution_count": null,
      "outputs": [
        {
          "output_type": "stream",
          "name": "stdout",
          "text": [
            "['1' '2' '34' '5' '5.5' 'string']\n"
          ]
        }
      ]
    },
    {
      "cell_type": "code",
      "source": [
        "type(array1)"
      ],
      "metadata": {
        "colab": {
          "base_uri": "https://localhost:8080/"
        },
        "id": "0xA8EtgXhT0E",
        "outputId": "8285dc71-de7d-4d50-b445-4f81b539af09"
      },
      "execution_count": null,
      "outputs": [
        {
          "output_type": "execute_result",
          "data": {
            "text/plain": [
              "numpy.ndarray"
            ]
          },
          "metadata": {},
          "execution_count": 8
        }
      ]
    },
    {
      "cell_type": "code",
      "source": [
        "python_list=[[1,2],[3,4]]\n",
        "python_list"
      ],
      "metadata": {
        "colab": {
          "base_uri": "https://localhost:8080/"
        },
        "id": "Vl10X4Jn8B-A",
        "outputId": "43f41721-bbf7-4294-92d9-579ffc095bf7"
      },
      "execution_count": null,
      "outputs": [
        {
          "output_type": "execute_result",
          "data": {
            "text/plain": [
              "[[1, 2], [3, 4]]"
            ]
          },
          "metadata": {},
          "execution_count": 9
        }
      ]
    },
    {
      "cell_type": "code",
      "source": [
        "array2=np.array([[1,2],[3,4]])\n",
        "print(array2)\n",
        "# 2D arrays\n",
        "#output looks like a matrices"
      ],
      "metadata": {
        "colab": {
          "base_uri": "https://localhost:8080/"
        },
        "id": "B-rep7qDhYyR",
        "outputId": "f5eb6ba7-81a3-4910-fce6-de7b6c17d5fd"
      },
      "execution_count": null,
      "outputs": [
        {
          "output_type": "stream",
          "name": "stdout",
          "text": [
            "[[1 2]\n",
            " [3 4]]\n"
          ]
        }
      ]
    },
    {
      "cell_type": "markdown",
      "source": [
        "**2.np.zeros/ones/empty/random**(values are returned as floats)"
      ],
      "metadata": {
        "id": "0CzsP1q2hngO"
      }
    },
    {
      "cell_type": "code",
      "source": [
        "array3=np.zeros((4,5),dtype=int)\n",
        "array3"
      ],
      "metadata": {
        "colab": {
          "base_uri": "https://localhost:8080/"
        },
        "id": "e3REcwuM81kl",
        "outputId": "46c23bc5-0b1e-460a-fd4a-ac67697271c8"
      },
      "execution_count": null,
      "outputs": [
        {
          "output_type": "execute_result",
          "data": {
            "text/plain": [
              "array([[0, 0, 0, 0, 0],\n",
              "       [0, 0, 0, 0, 0],\n",
              "       [0, 0, 0, 0, 0],\n",
              "       [0, 0, 0, 0, 0]])"
            ]
          },
          "metadata": {},
          "execution_count": 13
        }
      ]
    },
    {
      "cell_type": "code",
      "source": [
        "array3=np.zeros((2,3),dtype=int)\n",
        "array3"
      ],
      "metadata": {
        "colab": {
          "base_uri": "https://localhost:8080/"
        },
        "id": "n8Kk4SLKhjGt",
        "outputId": "8004ca2f-d9cc-4976-c24c-6bf9e194e8b3"
      },
      "execution_count": null,
      "outputs": [
        {
          "output_type": "execute_result",
          "data": {
            "text/plain": [
              "array([[0, 0, 0],\n",
              "       [0, 0, 0]])"
            ]
          },
          "metadata": {},
          "execution_count": 14
        }
      ]
    },
    {
      "cell_type": "code",
      "source": [
        "array4=np.ones([2,3])\n",
        "array4"
      ],
      "metadata": {
        "colab": {
          "base_uri": "https://localhost:8080/"
        },
        "id": "upWXyauvhwcF",
        "outputId": "d9fe22a9-44b1-4cb4-bf08-f9fedc020cb7"
      },
      "execution_count": null,
      "outputs": [
        {
          "output_type": "execute_result",
          "data": {
            "text/plain": [
              "array([[1., 1., 1.],\n",
              "       [1., 1., 1.]])"
            ]
          },
          "metadata": {},
          "execution_count": 15
        }
      ]
    },
    {
      "cell_type": "code",
      "source": [
        "array5=np.empty([3,3],dtype=int)\n",
        "array5"
      ],
      "metadata": {
        "colab": {
          "base_uri": "https://localhost:8080/"
        },
        "id": "v4_4Ty4jh5M4",
        "outputId": "d62b997b-ddd9-46f8-ace5-11391afdec8c"
      },
      "execution_count": null,
      "outputs": [
        {
          "output_type": "execute_result",
          "data": {
            "text/plain": [
              "array([[98664134259745,              0,              0],\n",
              "       [             0,              0,              0],\n",
              "       [             0,              0,              0]])"
            ]
          },
          "metadata": {},
          "execution_count": 19
        }
      ]
    },
    {
      "cell_type": "code",
      "source": [
        "array6=np.random.randint(1,1000)\n",
        "array6"
      ],
      "metadata": {
        "colab": {
          "base_uri": "https://localhost:8080/"
        },
        "id": "9as0goHAikkP",
        "outputId": "44092ece-565f-4a3f-b231-14086636abaf"
      },
      "execution_count": null,
      "outputs": [
        {
          "output_type": "execute_result",
          "data": {
            "text/plain": [
              "846"
            ]
          },
          "metadata": {},
          "execution_count": 21
        }
      ]
    },
    {
      "cell_type": "markdown",
      "source": [
        "**3.np.identity**"
      ],
      "metadata": {
        "id": "TpxxKl5fiqxy"
      }
    },
    {
      "cell_type": "markdown",
      "source": [
        "A square matrix in which all the elements of the principal diagonal are ones and all other elements are zeros. The effect of multiplying a given matrix by an identity matrix is to leave the given matrix unchanged."
      ],
      "metadata": {
        "id": "mMtsvdnHCgDq"
      }
    },
    {
      "cell_type": "code",
      "source": [
        "array7=np.identity(10,dtype=int)\n",
        "array7"
      ],
      "metadata": {
        "colab": {
          "base_uri": "https://localhost:8080/"
        },
        "id": "K6W-4tPgiv6o",
        "outputId": "ddda0ce4-75d8-4abf-c9bf-631a32dba5c1"
      },
      "execution_count": null,
      "outputs": [
        {
          "output_type": "execute_result",
          "data": {
            "text/plain": [
              "array([[1, 0, 0, 0, 0, 0, 0, 0, 0, 0],\n",
              "       [0, 1, 0, 0, 0, 0, 0, 0, 0, 0],\n",
              "       [0, 0, 1, 0, 0, 0, 0, 0, 0, 0],\n",
              "       [0, 0, 0, 1, 0, 0, 0, 0, 0, 0],\n",
              "       [0, 0, 0, 0, 1, 0, 0, 0, 0, 0],\n",
              "       [0, 0, 0, 0, 0, 1, 0, 0, 0, 0],\n",
              "       [0, 0, 0, 0, 0, 0, 1, 0, 0, 0],\n",
              "       [0, 0, 0, 0, 0, 0, 0, 1, 0, 0],\n",
              "       [0, 0, 0, 0, 0, 0, 0, 0, 1, 0],\n",
              "       [0, 0, 0, 0, 0, 0, 0, 0, 0, 1]])"
            ]
          },
          "metadata": {},
          "execution_count": 23
        }
      ]
    },
    {
      "cell_type": "markdown",
      "source": [
        "**4.np.arange**"
      ],
      "metadata": {
        "id": "CbkNN-dHi-Go"
      }
    },
    {
      "cell_type": "code",
      "source": [
        "array8=np.arange(50,100).reshape(10,5)\n",
        "array8"
      ],
      "metadata": {
        "colab": {
          "base_uri": "https://localhost:8080/"
        },
        "id": "PJ87aisf006h",
        "outputId": "25599c74-adb8-420c-e990-41c54cc02bdc"
      },
      "execution_count": null,
      "outputs": [
        {
          "output_type": "execute_result",
          "data": {
            "text/plain": [
              "array([[50, 51, 52, 53, 54],\n",
              "       [55, 56, 57, 58, 59],\n",
              "       [60, 61, 62, 63, 64],\n",
              "       [65, 66, 67, 68, 69],\n",
              "       [70, 71, 72, 73, 74],\n",
              "       [75, 76, 77, 78, 79],\n",
              "       [80, 81, 82, 83, 84],\n",
              "       [85, 86, 87, 88, 89],\n",
              "       [90, 91, 92, 93, 94],\n",
              "       [95, 96, 97, 98, 99]])"
            ]
          },
          "metadata": {},
          "execution_count": 30
        }
      ]
    },
    {
      "cell_type": "code",
      "source": [
        "array8=np.arange(6,14,2)\n",
        "array8"
      ],
      "metadata": {
        "colab": {
          "base_uri": "https://localhost:8080/"
        },
        "id": "UYmFBfAbi_l5",
        "outputId": "fe2737f7-dd1a-4caa-875e-dec2cf2be323"
      },
      "execution_count": null,
      "outputs": [
        {
          "output_type": "execute_result",
          "data": {
            "text/plain": [
              "array([ 6,  8, 10, 12])"
            ]
          },
          "metadata": {},
          "execution_count": 32
        }
      ]
    },
    {
      "cell_type": "markdown",
      "source": [
        "**5. np.linspace**"
      ],
      "metadata": {
        "id": "XYldHPUwjJnK"
      }
    },
    {
      "cell_type": "code",
      "source": [
        "array9=np.linspace(0,100,5)\n",
        "array9"
      ],
      "metadata": {
        "colab": {
          "base_uri": "https://localhost:8080/"
        },
        "id": "b6lrtHewjLEm",
        "outputId": "6d155af5-53e4-41e2-8752-fc0bca21c2f7"
      },
      "execution_count": null,
      "outputs": [
        {
          "output_type": "execute_result",
          "data": {
            "text/plain": [
              "array([  0.,  25.,  50.,  75., 100.])"
            ]
          },
          "metadata": {},
          "execution_count": 38
        }
      ]
    },
    {
      "cell_type": "markdown",
      "source": [
        "**6.copy**"
      ],
      "metadata": {
        "id": "7Xfdk21ajWDi"
      }
    },
    {
      "cell_type": "code",
      "source": [
        "array10=array9.copy()\n",
        "array10"
      ],
      "metadata": {
        "colab": {
          "base_uri": "https://localhost:8080/"
        },
        "id": "saGOIu1HjRZ-",
        "outputId": "1e3442b6-42c6-4cd5-9307-72057d2b7c65"
      },
      "execution_count": null,
      "outputs": [
        {
          "output_type": "execute_result",
          "data": {
            "text/plain": [
              "array([  0.,  25.,  50.,  75., 100.])"
            ]
          },
          "metadata": {},
          "execution_count": 39
        }
      ]
    }
  ]
}