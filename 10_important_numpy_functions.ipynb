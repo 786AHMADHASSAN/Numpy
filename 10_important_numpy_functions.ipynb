{
  "nbformat": 4,
  "nbformat_minor": 0,
  "metadata": {
    "colab": {
      "provenance": [],
      "gpuType": "V28"
    },
    "kernelspec": {
      "name": "python3",
      "display_name": "Python 3"
    },
    "language_info": {
      "name": "python"
    },
    "accelerator": "TPU"
  },
  "cells": [
    {
      "cell_type": "code",
      "execution_count": null,
      "metadata": {
        "id": "9zH81aAIFTBG"
      },
      "outputs": [],
      "source": [
        "import numpy as np"
      ]
    },
    {
      "cell_type": "markdown",
      "source": [
        "##1.random"
      ],
      "metadata": {
        "id": "Ta3-4Ro1Fj6B"
      }
    },
    {
      "cell_type": "code",
      "source": [
        "np.random.random(50)\n",
        "#giving value between 0 and 1"
      ],
      "metadata": {
        "colab": {
          "base_uri": "https://localhost:8080/"
        },
        "id": "bSfgAWBWFm5o",
        "outputId": "97823db6-8eb2-4fa7-acc0-cb73a8572975"
      },
      "execution_count": null,
      "outputs": [
        {
          "output_type": "execute_result",
          "data": {
            "text/plain": [
              "array([0.04719464, 0.37144428, 0.17727294, 0.22913423, 0.71431326,\n",
              "       0.79486007, 0.13931124, 0.81618748, 0.85770174, 0.09347013,\n",
              "       0.19143793, 0.66826804, 0.56004798, 0.64697698, 0.66905378,\n",
              "       0.69362438, 0.81556718, 0.98347817, 0.13483297, 0.91758604,\n",
              "       0.45731599, 0.88399891, 0.99765819, 0.66925432, 0.46649501,\n",
              "       0.52167961, 0.81097828, 0.46658363, 0.86695476, 0.999029  ,\n",
              "       0.20454291, 0.96328812, 0.95692197, 0.25590044, 0.76661986,\n",
              "       0.78639499, 0.85830046, 0.86787635, 0.64385455, 0.93414682,\n",
              "       0.8922758 , 0.81242158, 0.86109454, 0.20770259, 0.84101062,\n",
              "       0.59128685, 0.43328975, 0.75705786, 0.83520306, 0.46030821])"
            ]
          },
          "metadata": {},
          "execution_count": 7
        }
      ]
    },
    {
      "cell_type": "code",
      "source": [
        "np.random.seed(775)\n",
        "np.random.random()\n",
        "#it gives every time same value only if we provide some input value of seed"
      ],
      "metadata": {
        "colab": {
          "base_uri": "https://localhost:8080/"
        },
        "id": "nbxF8vagF04I",
        "outputId": "00ca97fd-df5e-48a4-e243-c8b3e287a683"
      },
      "execution_count": null,
      "outputs": [
        {
          "output_type": "execute_result",
          "data": {
            "text/plain": [
              "0.37573502088758925"
            ]
          },
          "metadata": {},
          "execution_count": 15
        }
      ]
    },
    {
      "cell_type": "code",
      "source": [
        "a=np.random.randint(20,88,40).reshape(8,5)\n",
        "a"
      ],
      "metadata": {
        "colab": {
          "base_uri": "https://localhost:8080/"
        },
        "id": "d9efPs8WG3Nh",
        "outputId": "9c5e5d89-424d-4fca-a210-48e9f2f3acb7"
      },
      "execution_count": null,
      "outputs": [
        {
          "output_type": "execute_result",
          "data": {
            "text/plain": [
              "array([[70, 79, 49, 21, 27],\n",
              "       [44, 40, 31, 76, 71],\n",
              "       [47, 75, 54, 65, 26],\n",
              "       [49, 83, 70, 21, 28],\n",
              "       [27, 29, 37, 52, 39],\n",
              "       [20, 37, 47, 21, 27],\n",
              "       [45, 84, 71, 71, 53],\n",
              "       [40, 69, 24, 49, 54]])"
            ]
          },
          "metadata": {},
          "execution_count": 44
        }
      ]
    },
    {
      "cell_type": "code",
      "source": [
        "np.random.uniform(3,88,40).reshape(8,5)\n",
        "# It gives float numbers"
      ],
      "metadata": {
        "colab": {
          "base_uri": "https://localhost:8080/"
        },
        "id": "S0RKy99GHAQn",
        "outputId": "cf248aab-5e84-4147-e50f-95c8ed212e94"
      },
      "execution_count": null,
      "outputs": [
        {
          "output_type": "execute_result",
          "data": {
            "text/plain": [
              "array([[21.19389656, 32.26398648,  5.09846372, 34.90203431, 23.52747853],\n",
              "       [82.63514881, 70.56831697, 47.59336674,  7.73077487, 31.06249894],\n",
              "       [31.34307187, 68.61449327, 80.61420171,  3.41890012, 20.99612043],\n",
              "       [59.18834822, 75.47347388, 42.41381949, 83.01565469, 65.02348596],\n",
              "       [57.64657447, 40.27165336,  4.94168985, 44.74800983, 64.38651434],\n",
              "       [86.16765962,  8.71323583, 23.37417914, 34.14344881, 14.82473824],\n",
              "       [56.33967209, 38.19158098, 51.05774968, 58.75122625, 36.56921845],\n",
              "       [43.83809925, 35.04929415, 37.70904741, 87.96965504,  9.0020354 ]])"
            ]
          },
          "metadata": {},
          "execution_count": 17
        }
      ]
    },
    {
      "cell_type": "code",
      "source": [
        "np.random.randint(19,20,20).reshape(4,5)"
      ],
      "metadata": {
        "colab": {
          "base_uri": "https://localhost:8080/"
        },
        "id": "y7HtT3KlhdZM",
        "outputId": "4e13b6d5-fcea-474b-b452-5634d3e0cefc"
      },
      "execution_count": null,
      "outputs": [
        {
          "output_type": "execute_result",
          "data": {
            "text/plain": [
              "array([[19, 19, 19, 19, 19],\n",
              "       [19, 19, 19, 19, 19],\n",
              "       [19, 19, 19, 19, 19],\n",
              "       [19, 19, 19, 19, 19]])"
            ]
          },
          "metadata": {},
          "execution_count": 19
        }
      ]
    },
    {
      "cell_type": "markdown",
      "source": [
        "##2.max/min"
      ],
      "metadata": {
        "id": "pHz0aX-bHQmE"
      }
    },
    {
      "cell_type": "markdown",
      "source": [
        "##3.argmax/argmin\n",
        "\n",
        "**It gives the index of highest and lowest element present**"
      ],
      "metadata": {
        "id": "mr2xPMJ0HjJZ"
      }
    },
    {
      "cell_type": "code",
      "source": [
        "a"
      ],
      "metadata": {
        "colab": {
          "base_uri": "https://localhost:8080/"
        },
        "id": "6UOguNoXHwkY",
        "outputId": "d8c4cb5f-142c-4ad0-8991-62d162e5ee43"
      },
      "execution_count": null,
      "outputs": [
        {
          "output_type": "execute_result",
          "data": {
            "text/plain": [
              "array([[20, 35, 79, 39, 87],\n",
              "       [86, 26, 51, 32, 45],\n",
              "       [81, 24, 48, 23, 36],\n",
              "       [27, 74, 44, 48, 81],\n",
              "       [40, 86, 59, 41, 25],\n",
              "       [79, 22, 78, 78, 42],\n",
              "       [78, 67, 44, 37, 44],\n",
              "       [65, 39, 51, 75, 81]])"
            ]
          },
          "metadata": {},
          "execution_count": 20
        }
      ]
    },
    {
      "cell_type": "code",
      "source": [
        "a.max()"
      ],
      "metadata": {
        "colab": {
          "base_uri": "https://localhost:8080/"
        },
        "id": "Noq1-dCwigYc",
        "outputId": "78b280ab-e376-4d16-ddf1-4f6616485ea7"
      },
      "execution_count": null,
      "outputs": [
        {
          "output_type": "execute_result",
          "data": {
            "text/plain": [
              "87"
            ]
          },
          "metadata": {},
          "execution_count": 28
        }
      ]
    },
    {
      "cell_type": "code",
      "source": [
        "np.argmax(a)"
      ],
      "metadata": {
        "colab": {
          "base_uri": "https://localhost:8080/"
        },
        "id": "GPT-pT13HYxh",
        "outputId": "869c41f4-e7b9-493c-f5dc-207828849dd2"
      },
      "execution_count": null,
      "outputs": [
        {
          "output_type": "execute_result",
          "data": {
            "text/plain": [
              "4"
            ]
          },
          "metadata": {},
          "execution_count": 29
        }
      ]
    },
    {
      "cell_type": "code",
      "source": [
        "np.argmin(a)"
      ],
      "metadata": {
        "colab": {
          "base_uri": "https://localhost:8080/"
        },
        "id": "R2_xrPagiq2P",
        "outputId": "20d4ffff-0a24-4a67-aed5-8ed90d68c0e7"
      },
      "execution_count": null,
      "outputs": [
        {
          "output_type": "execute_result",
          "data": {
            "text/plain": [
              "0"
            ]
          },
          "metadata": {},
          "execution_count": 30
        }
      ]
    },
    {
      "cell_type": "code",
      "source": [
        "np.argmin(a,axis=0)"
      ],
      "metadata": {
        "colab": {
          "base_uri": "https://localhost:8080/"
        },
        "id": "H_7dAsrKH5m0",
        "outputId": "14cba793-824a-4053-e376-c85b197e03a6"
      },
      "execution_count": null,
      "outputs": [
        {
          "output_type": "execute_result",
          "data": {
            "text/plain": [
              "array([0, 5, 3, 2, 4])"
            ]
          },
          "metadata": {},
          "execution_count": 32
        }
      ]
    },
    {
      "cell_type": "markdown",
      "source": [
        "##4.conditional indexing(already done in filtering)"
      ],
      "metadata": {
        "id": "bQKOgBR5IJiw"
      }
    },
    {
      "cell_type": "code",
      "source": [
        "a[(a%2==1)&(a>50)]=0\n",
        "a\n",
        "#every number greater than 50 and odd are converted to zero"
      ],
      "metadata": {
        "colab": {
          "base_uri": "https://localhost:8080/"
        },
        "id": "pgPLOUVzIXCw",
        "outputId": "6a7c0485-9bd6-4bf9-b4b6-8f485f163cf7"
      },
      "execution_count": null,
      "outputs": [
        {
          "output_type": "execute_result",
          "data": {
            "text/plain": [
              "array([[20, 35,  0, 39,  0],\n",
              "       [86, 26,  0, 32, 45],\n",
              "       [ 0, 24, 48, 23, 36],\n",
              "       [27, 74, 44, 48,  0],\n",
              "       [40, 86,  0, 41, 25],\n",
              "       [ 0, 22, 78, 78, 42],\n",
              "       [78,  0, 44, 37, 44],\n",
              "       [ 0, 39,  0,  0,  0]])"
            ]
          },
          "metadata": {},
          "execution_count": 36
        }
      ]
    },
    {
      "cell_type": "markdown",
      "source": [
        "##5.where\n",
        "this function is used when we donot want to change the array itself but just want to change the values.\n",
        "\n",
        "**syntax=[condition,   what if true,  what if false]**"
      ],
      "metadata": {
        "id": "FfzjKU2rIxzu"
      }
    },
    {
      "cell_type": "code",
      "source": [
        "a1=np.where(a%2==1,0,a)\n",
        "a1"
      ],
      "metadata": {
        "colab": {
          "base_uri": "https://localhost:8080/"
        },
        "id": "42sPW2svJPRr",
        "outputId": "8d9dac98-ad8a-4b82-a983-7b823141ba28"
      },
      "execution_count": null,
      "outputs": [
        {
          "output_type": "execute_result",
          "data": {
            "text/plain": [
              "array([[20,  0,  0,  0,  0],\n",
              "       [86, 26,  0, 32,  0],\n",
              "       [ 0, 24, 48,  0, 36],\n",
              "       [ 0, 74, 44, 48,  0],\n",
              "       [40, 86,  0,  0,  0],\n",
              "       [ 0, 22, 78, 78, 42],\n",
              "       [78,  0, 44,  0, 44],\n",
              "       [ 0,  0,  0,  0,  0]])"
            ]
          },
          "metadata": {},
          "execution_count": 40
        }
      ]
    },
    {
      "cell_type": "code",
      "source": [
        "a1\n",
        "# It remains unchanged(permanent change is induced)?"
      ],
      "metadata": {
        "colab": {
          "base_uri": "https://localhost:8080/"
        },
        "id": "neIMIHghJvjD",
        "outputId": "219cbfc5-12b0-47d7-8125-3b5093cfc80e"
      },
      "execution_count": null,
      "outputs": [
        {
          "output_type": "execute_result",
          "data": {
            "text/plain": [
              "array([[20,  0,  0,  0,  0],\n",
              "       [86, 26,  0, 32,  0],\n",
              "       [ 0, 24, 48,  0, 36],\n",
              "       [ 0, 74, 44, 48,  0],\n",
              "       [40, 86,  0,  0,  0],\n",
              "       [ 0, 22, 78, 78, 42],\n",
              "       [78,  0, 44,  0, 44],\n",
              "       [ 0,  0,  0,  0,  0]])"
            ]
          },
          "metadata": {},
          "execution_count": 41
        }
      ]
    },
    {
      "cell_type": "markdown",
      "source": [
        "##6.sort"
      ],
      "metadata": {
        "id": "FmXoD63GKB8g"
      }
    },
    {
      "cell_type": "code",
      "source": [
        "a"
      ],
      "metadata": {
        "colab": {
          "base_uri": "https://localhost:8080/"
        },
        "id": "pAaV4z9jk2Hs",
        "outputId": "ea1b137c-f7a6-4e3b-e547-52a08e0992c8"
      },
      "execution_count": null,
      "outputs": [
        {
          "output_type": "execute_result",
          "data": {
            "text/plain": [
              "array([[70, 79, 49, 21, 27],\n",
              "       [44, 40, 31, 76, 71],\n",
              "       [47, 75, 54, 65, 26],\n",
              "       [49, 83, 70, 21, 28],\n",
              "       [27, 29, 37, 52, 39],\n",
              "       [20, 37, 47, 21, 27],\n",
              "       [45, 84, 71, 71, 53],\n",
              "       [40, 69, 24, 49, 54]])"
            ]
          },
          "metadata": {},
          "execution_count": 45
        }
      ]
    },
    {
      "cell_type": "code",
      "source": [
        "np.sort(a,axis=0)"
      ],
      "metadata": {
        "colab": {
          "base_uri": "https://localhost:8080/"
        },
        "id": "_r2RpdnYKIHR",
        "outputId": "176ca871-df9e-4cc3-e689-1dfd27d4d3e8"
      },
      "execution_count": null,
      "outputs": [
        {
          "output_type": "execute_result",
          "data": {
            "text/plain": [
              "array([[20, 29, 24, 21, 26],\n",
              "       [27, 37, 31, 21, 27],\n",
              "       [40, 40, 37, 21, 27],\n",
              "       [44, 69, 47, 49, 28],\n",
              "       [45, 75, 49, 52, 39],\n",
              "       [47, 79, 54, 65, 53],\n",
              "       [49, 83, 70, 71, 54],\n",
              "       [70, 84, 71, 76, 71]])"
            ]
          },
          "metadata": {},
          "execution_count": 48
        }
      ]
    },
    {
      "cell_type": "markdown",
      "source": [
        "##7.percentile\n",
        "\n",
        "A percentile is a comparison score between a particular score and the scores of the rest of a group. It shows the percentage of scores that a particular score surpassed. For example, if you score 75 points on a test, and are ranked in the 85th percentile, it means that the score 75 ishigher than 85% of the scores."
      ],
      "metadata": {
        "id": "fK1NV3VEL-Bt"
      }
    },
    {
      "cell_type": "code",
      "source": [
        "np.percentile(a,0)"
      ],
      "metadata": {
        "colab": {
          "base_uri": "https://localhost:8080/"
        },
        "id": "LKIuyjK4MNoW",
        "outputId": "843dc3be-f97b-4386-bcee-1ea8c0015c43"
      },
      "execution_count": null,
      "outputs": [
        {
          "output_type": "execute_result",
          "data": {
            "text/plain": [
              "20.0"
            ]
          },
          "metadata": {},
          "execution_count": 52
        }
      ]
    },
    {
      "cell_type": "code",
      "source": [
        "np.percentile(a,50)"
      ],
      "metadata": {
        "colab": {
          "base_uri": "https://localhost:8080/"
        },
        "id": "JN1kgxUGNGEz",
        "outputId": "503bd56f-be08-4ea4-99b9-5bfa68250297"
      },
      "execution_count": null,
      "outputs": [
        {
          "output_type": "execute_result",
          "data": {
            "text/plain": [
              "47.0"
            ]
          },
          "metadata": {},
          "execution_count": 53
        }
      ]
    },
    {
      "cell_type": "code",
      "source": [
        "np.percentile(a,100)\n",
        "#highest value in data"
      ],
      "metadata": {
        "colab": {
          "base_uri": "https://localhost:8080/"
        },
        "id": "ou4DfVQINJlu",
        "outputId": "4e16cda6-a15b-44e4-fc2e-a25be6c1200a"
      },
      "execution_count": null,
      "outputs": [
        {
          "output_type": "execute_result",
          "data": {
            "text/plain": [
              "84.0"
            ]
          },
          "metadata": {},
          "execution_count": 54
        }
      ]
    },
    {
      "cell_type": "code",
      "source": [
        "np.percentile(a,0)\n",
        "#lowest value in data"
      ],
      "metadata": {
        "colab": {
          "base_uri": "https://localhost:8080/"
        },
        "id": "a0_nVkDUNcwV",
        "outputId": "1dd52b31-aaaa-4f2c-8389-856b2b967aeb"
      },
      "execution_count": null,
      "outputs": [
        {
          "output_type": "execute_result",
          "data": {
            "text/plain": [
              "20.0"
            ]
          },
          "metadata": {},
          "execution_count": 55
        }
      ]
    }
  ]
}