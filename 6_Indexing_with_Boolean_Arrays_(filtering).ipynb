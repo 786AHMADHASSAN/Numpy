{
  "nbformat": 4,
  "nbformat_minor": 0,
  "metadata": {
    "colab": {
      "provenance": [],
      "gpuType": "V28"
    },
    "kernelspec": {
      "name": "python3",
      "display_name": "Python 3"
    },
    "language_info": {
      "name": "python"
    },
    "accelerator": "TPU"
  },
  "cells": [
    {
      "cell_type": "code",
      "execution_count": null,
      "metadata": {
        "id": "f3chczFbGbg4"
      },
      "outputs": [],
      "source": [
        "import numpy as np"
      ]
    },
    {
      "cell_type": "code",
      "source": [
        "array1=np.random.randint(1,100,20).reshape(4,5)\n",
        "array1"
      ],
      "metadata": {
        "colab": {
          "base_uri": "https://localhost:8080/"
        },
        "id": "n7H36Mn_626U",
        "outputId": "b38df55a-ef7a-437a-a283-e9ced32435f3"
      },
      "execution_count": null,
      "outputs": [
        {
          "output_type": "execute_result",
          "data": {
            "text/plain": [
              "array([[28, 49, 70, 57,  6],\n",
              "       [50, 53, 75, 62, 19],\n",
              "       [44, 77, 97, 32, 46],\n",
              "       [60, 62, 92, 54, 72]])"
            ]
          },
          "metadata": {},
          "execution_count": 4
        }
      ]
    },
    {
      "cell_type": "markdown",
      "source": [
        "**here we will do conditional indexing**"
      ],
      "metadata": {
        "id": "mwoGzTBX7MPa"
      }
    },
    {
      "cell_type": "code",
      "source": [
        "array1[array1>30]"
      ],
      "metadata": {
        "colab": {
          "base_uri": "https://localhost:8080/"
        },
        "id": "Yl0yVhru7HvN",
        "outputId": "67b559e0-d9a7-44b7-cb38-1a25fe2ccc3c"
      },
      "execution_count": null,
      "outputs": [
        {
          "output_type": "execute_result",
          "data": {
            "text/plain": [
              "array([49, 70, 57, 50, 53, 75, 62, 44, 77, 97, 32, 46, 60, 62, 92, 54, 72])"
            ]
          },
          "metadata": {},
          "execution_count": 14
        }
      ]
    },
    {
      "cell_type": "code",
      "source": [
        "array1[(array1>30)&(array1 %2!=1)]"
      ],
      "metadata": {
        "colab": {
          "base_uri": "https://localhost:8080/"
        },
        "id": "tEi9NYhO7c3P",
        "outputId": "cb95eb26-3b85-4747-c463-47209f90ca46"
      },
      "execution_count": null,
      "outputs": [
        {
          "output_type": "execute_result",
          "data": {
            "text/plain": [
              "array([70, 50, 62, 44, 32, 46, 60, 62, 92, 54, 72])"
            ]
          },
          "metadata": {},
          "execution_count": 20
        }
      ]
    },
    {
      "cell_type": "code",
      "source": [
        "array1[(array1>30)&(array1 %2!=0)]=0\n",
        "array1\n",
        "#all values greater than 30 and odd becomes zero"
      ],
      "metadata": {
        "colab": {
          "base_uri": "https://localhost:8080/"
        },
        "id": "FfgQNQZu8N8h",
        "outputId": "78c7bae2-fb60-41a1-cbda-8dbbf4e9926e"
      },
      "execution_count": null,
      "outputs": [
        {
          "output_type": "execute_result",
          "data": {
            "text/plain": [
              "array([ 0, 70,  0, 50,  0,  0, 62, 44,  0,  0, 32, 46, 60, 62, 92, 54, 72])"
            ]
          },
          "metadata": {},
          "execution_count": 25
        }
      ]
    }
  ]
}